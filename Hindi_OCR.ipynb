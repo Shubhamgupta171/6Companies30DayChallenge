{
  "nbformat": 4,
  "nbformat_minor": 0,
  "metadata": {
    "colab": {
      "provenance": [],
      "authorship_tag": "ABX9TyMRoL3clt0kTwt0iPIkAYvV",
      "include_colab_link": true
    },
    "kernelspec": {
      "name": "python3",
      "display_name": "Python 3"
    },
    "language_info": {
      "name": "python"
    }
  },
  "cells": [
    {
      "cell_type": "markdown",
      "metadata": {
        "id": "view-in-github",
        "colab_type": "text"
      },
      "source": [
        "<a href=\"https://colab.research.google.com/github/Shubhamgupta171/6Companies30DayChallenge/blob/main/Hindi_OCR.ipynb\" target=\"_parent\"><img src=\"https://colab.research.google.com/assets/colab-badge.svg\" alt=\"Open In Colab\"/></a>"
      ]
    },
    {
      "cell_type": "code",
      "source": [
        "import os\n",
        "\n",
        "# Define paths\n",
        "Users_dir=os.path.expanduser('~/Users')\n",
        "shubhamgupta_dir=os.path.join(Users_dir,'shubhamgupta')\n",
        "downloads_dir = os.path.join('~/Downloads')\n",
        "dataset_dir = os.path.join(downloads_dir, 'devanagari')\n",
        "train_dir = os.path.join(dataset_dir, 'train')\n",
        "test_dir = os.path.join(dataset_dir, 'test')\n",
        "\n",
        "# Print the directory structure to verify\n",
        "print(f\"Users directory: {Users_dir}\")\n",
        "print(f\"ShubhamGupta directory: {shubhamgupta_dir}\")\n",
        "print(f\"Downloads directory: {downloads_dir}\")\n",
        "print(f\"Dataset directory: {dataset_dir}\")\n",
        "print(f\"Train directory: {train_dir}\")\n",
        "print(f\"Test directory: {test_dir}\")\n",
        "\n",
        "# List contents of the directories\n",
        "print(\"Contents of Users directory:\")\n",
        "print(os.listdir(Users_dir))\n",
        "\n",
        "print(\"Contents of ShubhamGupta directory:\")\n",
        "print(os.listdir(shubhamgupta_dir))\n",
        "\n",
        "print(\"Contents of Downloads directory:\")\n",
        "print(os.listdir(downloads_dir))\n",
        "\n",
        "if os.path.exists(dataset_dir):\n",
        "    print(\"\\nContents of Devanagari dataset directory:\")\n",
        "    print(os.listdir(dataset_dir))\n",
        "\n",
        "if os.path.exists(train_dir):\n",
        "    print(\"\\nContents of Train directory:\")\n",
        "    print(os.listdir(train_dir))\n",
        "\n",
        "if os.path.exists(test_dir):\n",
        "    print(\"\\nContents of Test directory:\")\n",
        "    print(os.listdir(test_dir))\n"
      ],
      "metadata": {
        "colab": {
          "base_uri": "https://localhost:8080/",
          "height": 341
        },
        "id": "hpC56cXnytZi",
        "outputId": "d4a021a2-c924-43fd-eb1e-652e7d674a8f"
      },
      "execution_count": 22,
      "outputs": [
        {
          "output_type": "stream",
          "name": "stdout",
          "text": [
            "Users directory: /root/Users\n",
            "ShubhamGupta directory: /root/Users/shubhamgupta\n",
            "Downloads directory: ~/Downloads\n",
            "Dataset directory: ~/Downloads/devanagari\n",
            "Train directory: ~/Downloads/devanagari/train\n",
            "Test directory: ~/Downloads/devanagari/test\n",
            "Contents of Users directory:\n"
          ]
        },
        {
          "output_type": "error",
          "ename": "FileNotFoundError",
          "evalue": "[Errno 2] No such file or directory: '/root/Users'",
          "traceback": [
            "\u001b[0;31m---------------------------------------------------------------------------\u001b[0m",
            "\u001b[0;31mFileNotFoundError\u001b[0m                         Traceback (most recent call last)",
            "\u001b[0;32m<ipython-input-22-41f7327adee4>\u001b[0m in \u001b[0;36m<cell line: 21>\u001b[0;34m()\u001b[0m\n\u001b[1;32m     19\u001b[0m \u001b[0;31m# List contents of the directories\u001b[0m\u001b[0;34m\u001b[0m\u001b[0;34m\u001b[0m\u001b[0m\n\u001b[1;32m     20\u001b[0m \u001b[0mprint\u001b[0m\u001b[0;34m(\u001b[0m\u001b[0;34m\"Contents of Users directory:\"\u001b[0m\u001b[0;34m)\u001b[0m\u001b[0;34m\u001b[0m\u001b[0;34m\u001b[0m\u001b[0m\n\u001b[0;32m---> 21\u001b[0;31m \u001b[0mprint\u001b[0m\u001b[0;34m(\u001b[0m\u001b[0mos\u001b[0m\u001b[0;34m.\u001b[0m\u001b[0mlistdir\u001b[0m\u001b[0;34m(\u001b[0m\u001b[0mUsers_dir\u001b[0m\u001b[0;34m)\u001b[0m\u001b[0;34m)\u001b[0m\u001b[0;34m\u001b[0m\u001b[0;34m\u001b[0m\u001b[0m\n\u001b[0m\u001b[1;32m     22\u001b[0m \u001b[0;34m\u001b[0m\u001b[0m\n\u001b[1;32m     23\u001b[0m \u001b[0mprint\u001b[0m\u001b[0;34m(\u001b[0m\u001b[0;34m\"Contents of ShubhamGupta directory:\"\u001b[0m\u001b[0;34m)\u001b[0m\u001b[0;34m\u001b[0m\u001b[0;34m\u001b[0m\u001b[0m\n",
            "\u001b[0;31mFileNotFoundError\u001b[0m: [Errno 2] No such file or directory: '/root/Users'"
          ]
        }
      ]
    },
    {
      "cell_type": "code",
      "source": [
        "import os\n",
        "import tensorflow as tf\n",
        "from tensorflow.keras.models import Sequential\n",
        "from tensorflow.keras.layers import Conv2D, MaxPooling2D, Flatten, Dense, Dropout\n",
        "from tensorflow.keras.preprocessing.image import ImageDataGenerator\n",
        "import numpy as np\n",
        "import cv2\n",
        "import requests\n",
        "from PIL import Image\n",
        "from io import BytesIO\n",
        "\n",
        "# Define paths\n",
        "train_dir = os.path.expanduser('~/Users/shubhamgupta/Downloads/devanagari/train')\n",
        "test_dir = os.path.expanduser('~/Users/shubhamgupta/Downloads/devanagari/test')\n",
        "\n",
        "# Check if the directories exist\n",
        "if not os.path.exists(train_dir):\n",
        "    raise FileNotFoundError(f\"Training directory '{train_dir}' not found.\")\n",
        "if not os.path.exists(test_dir):\n",
        "    raise FileNotFoundError(f\"Testing directory '{test_dir}' not found.\")\n",
        "\n",
        "# Define the CNN model\n",
        "def create_model(input_shape, num_classes):\n",
        "    model = Sequential()\n",
        "    model.add(Conv2D(32, kernel_size=(3, 3), activation='relu', input_shape=input_shape))\n",
        "    model.add(MaxPooling2D(pool_size=(2, 2)))\n",
        "    model.add(Dropout(0.25))\n",
        "\n",
        "    model.add(Conv2D(64, kernel_size=(3, 3), activation='relu'))\n",
        "    model.add(MaxPooling2D(pool_size=(2, 2)))\n",
        "    model.add(Dropout(0.25))\n",
        "\n",
        "    model.add(Conv2D(128, kernel_size=(3, 3), activation='relu'))\n",
        "    model.add(MaxPooling2D(pool_size=(2, 2)))\n",
        "    model.add(Dropout(0.25))\n",
        "\n",
        "    model.add(Flatten())\n",
        "    model.add(Dense(512, activation='relu'))\n",
        "    model.add(Dropout(0.5))\n",
        "    model.add(Dense(num_classes, activation='softmax'))\n",
        "\n",
        "    model.compile(optimizer='adam', loss='categorical_crossentropy', metrics=['accuracy'])\n",
        "    return model\n",
        "\n",
        "# Data augmentation\n",
        "train_datagen = ImageDataGenerator(\n",
        "    rescale=1.0/255,\n",
        "    rotation_range=10,\n",
        "    width_shift_range=0.1,\n",
        "    height_shift_range=0.1,\n",
        "    shear_range=0.1,\n",
        "    zoom_range=0.1,\n",
        "    horizontal_flip=False\n",
        ")\n",
        "\n",
        "test_datagen = ImageDataGenerator(rescale=1.0/255)\n",
        "\n",
        "# Data generators\n",
        "train_generator = train_datagen.flow_from_directory(\n",
        "    train_dir,\n",
        "    target_size=(32, 32),\n",
        "    batch_size=32,\n",
        "    color_mode='grayscale',\n",
        "    class_mode='categorical'\n",
        ")\n",
        "\n",
        "test_generator = test_datagen.flow_from_directory(\n",
        "    test_dir,\n",
        "    target_size=(32, 32),\n",
        "    batch_size=32,\n",
        "    color_mode='grayscale',\n",
        "    class_mode='categorical'\n",
        ")\n",
        "\n",
        "# Get the input shape and number of classes\n",
        "input_shape = (32, 32, 1)\n",
        "num_classes = len(train_generator.class_indices)\n",
        "\n",
        "# Create the model\n",
        "model = create_model(input_shape, num_classes)\n",
        "\n",
        "# Train the model\n",
        "model.fit(\n",
        "    train_generator,\n",
        "    steps_per_epoch=train_generator.samples // train_generator.batch_size,\n",
        "    validation_data=test_generator,\n",
        "    validation_steps=test_generator.samples // test_generator.batch_size,\n",
        "    epochs=20\n",
        ")\n",
        "\n",
        "# Save the model\n",
        "model.save('hindi_ocr_cnn.h5')\n",
        "\n",
        "# Evaluate the model on the test set\n",
        "loss, accuracy = model.evaluate(test_generator, steps=test_generator.samples // test_generator.batch_size)\n",
        "print(f\"Test accuracy: {accuracy * 100:.2f}%\")\n",
        "\n",
        "# Function to preprocess and predict the character from an image\n",
        "def predict_character(image_path, model):\n",
        "    # Download the image from URL\n",
        "    response = requests.get(image_path)\n",
        "    image = Image.open(BytesIO(response.content)).convert('L')\n",
        "    image = image.resize((32, 32))\n",
        "    image = np.array(image).astype('float32') / 255\n",
        "    image = np.expand_dims(image, axis=-1)\n",
        "    image = np.expand_dims(image, axis=0)\n",
        "\n",
        "    prediction = model.predict(image)\n",
        "    predicted_class = np.argmax(prediction)\n",
        "\n",
        "    return predicted_class\n",
        "\n",
        "# Example usage\n",
        "# Replace 'path_to_hindi_character_image' with the actual path to an image file\n",
        "image_path = 'https://encrypted-tbn0.gstatic.com/images?q=tbn:ANd9GcQTIdVT6r94egLNXVbfyty9FManGBDe-9JrEhHMRMc6OR3nGz7vwF4k1s--G4Fr0-ns7hI&usqp=CAU'\n",
        "predicted_class = predict_character(image_path, model)\n",
        "print(f\"Predicted class: {predicted_class}\")\n"
      ],
      "metadata": {
        "colab": {
          "base_uri": "https://localhost:8080/",
          "height": 233
        },
        "id": "LkZ-rL0y19QO",
        "outputId": "2baec102-c985-4cd0-ba44-897206ccb150"
      },
      "execution_count": 23,
      "outputs": [
        {
          "output_type": "error",
          "ename": "FileNotFoundError",
          "evalue": "Training directory '/root/Users/shubhamgupta/Downloads/devanagari/train' not found.",
          "traceback": [
            "\u001b[0;31m---------------------------------------------------------------------------\u001b[0m",
            "\u001b[0;31mFileNotFoundError\u001b[0m                         Traceback (most recent call last)",
            "\u001b[0;32m<ipython-input-23-c252e24cc885>\u001b[0m in \u001b[0;36m<cell line: 17>\u001b[0;34m()\u001b[0m\n\u001b[1;32m     16\u001b[0m \u001b[0;31m# Check if the directories exist\u001b[0m\u001b[0;34m\u001b[0m\u001b[0;34m\u001b[0m\u001b[0m\n\u001b[1;32m     17\u001b[0m \u001b[0;32mif\u001b[0m \u001b[0;32mnot\u001b[0m \u001b[0mos\u001b[0m\u001b[0;34m.\u001b[0m\u001b[0mpath\u001b[0m\u001b[0;34m.\u001b[0m\u001b[0mexists\u001b[0m\u001b[0;34m(\u001b[0m\u001b[0mtrain_dir\u001b[0m\u001b[0;34m)\u001b[0m\u001b[0;34m:\u001b[0m\u001b[0;34m\u001b[0m\u001b[0;34m\u001b[0m\u001b[0m\n\u001b[0;32m---> 18\u001b[0;31m     \u001b[0;32mraise\u001b[0m \u001b[0mFileNotFoundError\u001b[0m\u001b[0;34m(\u001b[0m\u001b[0;34mf\"Training directory '{train_dir}' not found.\"\u001b[0m\u001b[0;34m)\u001b[0m\u001b[0;34m\u001b[0m\u001b[0;34m\u001b[0m\u001b[0m\n\u001b[0m\u001b[1;32m     19\u001b[0m \u001b[0;32mif\u001b[0m \u001b[0;32mnot\u001b[0m \u001b[0mos\u001b[0m\u001b[0;34m.\u001b[0m\u001b[0mpath\u001b[0m\u001b[0;34m.\u001b[0m\u001b[0mexists\u001b[0m\u001b[0;34m(\u001b[0m\u001b[0mtest_dir\u001b[0m\u001b[0;34m)\u001b[0m\u001b[0;34m:\u001b[0m\u001b[0;34m\u001b[0m\u001b[0;34m\u001b[0m\u001b[0m\n\u001b[1;32m     20\u001b[0m     \u001b[0;32mraise\u001b[0m \u001b[0mFileNotFoundError\u001b[0m\u001b[0;34m(\u001b[0m\u001b[0;34mf\"Testing directory '{test_dir}' not found.\"\u001b[0m\u001b[0;34m)\u001b[0m\u001b[0;34m\u001b[0m\u001b[0;34m\u001b[0m\u001b[0m\n",
            "\u001b[0;31mFileNotFoundError\u001b[0m: Training directory '/root/Users/shubhamgupta/Downloads/devanagari/train' not found."
          ]
        }
      ]
    }
  ]
}